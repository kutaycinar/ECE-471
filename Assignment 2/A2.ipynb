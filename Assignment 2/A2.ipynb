{
  "nbformat": 4,
  "nbformat_minor": 0,
  "metadata": {
    "colab": {
      "name": "A2.ipynb",
      "provenance": [],
      "collapsed_sections": [],
      "toc_visible": true
    },
    "kernelspec": {
      "name": "python3",
      "display_name": "Python 3"
    }
  },
  "cells": [
    {
      "cell_type": "markdown",
      "metadata": {
        "id": "dRhMh6tJjvcc"
      },
      "source": [
        "# **2. Programming: Histogram of Oriented Gradients and convolutions (100 points)**"
      ]
    },
    {
      "cell_type": "markdown",
      "metadata": {
        "id": "0D4ecEgtjzOY"
      },
      "source": [
        "### **2.0 Convolution function** (24 points)\n",
        "\n",
        "Convolutions are important mathematical operations where a function is modified by a second one. In a discrete setting, convolution and cross-correlation can be used to apply diverse kernels in multi-dimensional matrices (e.g., images). In this part of the assignments you are asked to mannualy implement a function that executes a convolution (actually cross correlation: read note in the next code block).  "
      ]
    },
    {
      "cell_type": "code",
      "metadata": {
        "id": "YQS1k9BUa_8Z"
      },
      "source": [
        "READ_THE_INSTRUCTIONS_FLAG = True"
      ],
      "execution_count": null,
      "outputs": []
    },
    {
      "cell_type": "code",
      "metadata": {
        "id": "b_yOTMF-S_e-",
        "colab": {
          "base_uri": "https://localhost:8080/"
        },
        "outputId": "a04ce314-1257-4a21-a263-196363eb63f6"
      },
      "source": [
        "from matplotlib import pyplot as plt\n",
        "from skimage.feature import hog\n",
        "from skimage import data, exposure\n",
        "import sys\n",
        "import cv2\n",
        "import os\n",
        "import numpy as np\n",
        "\n",
        "print('-'*40)\n",
        "print ('Python version: {}'.format(sys.version))\n",
        "print('OpenCV version: {}'.format(cv2.__version__))\n",
        "\n",
        "if not READ_THE_INSTRUCTIONS_FLAG:\n",
        "  raise Exception('Please go back and read the instructions.')\n",
        "else:\n",
        "  print('\\nThank you for reading the instructions.')\n",
        "print('-'*40)\n",
        "\n",
        "# helper functions\n",
        "\n",
        "def pltImg(img, title=None, ori=\"horizontal\", colorb = True, color_map='gray'):  # not mandatory, but useful\n",
        "  plt.imshow(img,cmap=color_map)\n",
        "  if colorb:\n",
        "    plt.colorbar(orientation=ori)\n",
        "  if title:\n",
        "    plt.title(title)\n",
        "  return plt\n",
        "\n",
        "# TO-DO (15 points): Implement a function that performs a convolution following the skeleton provided. You \n",
        "# should use a maximum of ksize*ksize iterations in your \"for\" loop. For example: given a \n",
        "# 3x3 kernel, you can use a maximum of 9 iterations on your convolution's \"for\" loop. Your \n",
        "# function should accept input matrices of any size, as long as they are at least the \n",
        "# same size as the convolutional kernel.   \n",
        "\n",
        "def my_padded_conv2D(kernel, matrix, pad_value=0):\n",
        "  # steps: \n",
        "  # 1. create a matrix to receive the results\n",
        "  result = np.zeros(matrix.shape, np.float32)\n",
        "\n",
        "  # 2. pad the image with the constant value indicated (default 0) based on the kernel provided\n",
        "  pad_amount = tuple(round(i / 2 - 0.5) for i in kernel.shape)\n",
        "  matrix_padded = np.pad(matrix, pad_amount, mode='constant', constant_values=pad_value)\n",
        "\n",
        "  # 3. fill the \"result\" matrix using a maximum of ksize*ksize iterations (e.g., for \n",
        "  # a 3x3 kernel, a maximum of 9 iterations in a loop)\n",
        "\n",
        "  height, width = result.shape\n",
        "  u, v = kernel.shape\n",
        "\n",
        "  for i in range(height):\n",
        "    for j in range(width):\n",
        "      result[i][j] = np.sum(np.multiply(matrix_padded[i:i+u, j:j+v], kernel))\n",
        "    \n",
        "  assert (result.shape == matrix.shape),'The dimensions of input and output should be the same.'\n",
        "  return result\n",
        "\n",
        "# Note 1: we are implementing a convolution function that uses padding so that the \n",
        "# output image does not change its dimensions. As mentioned in Lecture 6, in some feature extraction\n",
        "# networks and many other settings this is not the desired behaviour (i.e., images\n",
        "# are supposed to change their dimensions).\n",
        "\n",
        "# Note 2: consider that the input kernels are square matrices with an odd number of \n",
        "# rows and columns (e.g., 3x3, 5x5, 7x7, 9x9). \n",
        "\n",
        "# Note 3: for simplicity (and to conform with most functions from popular libraries)\n",
        "# we are actually implementing a cross-correlation operation. Remember: to\n",
        "# implement a proper convolution, it suffices to rotate a kernel around its\n",
        "# center (i.e., horizontal then vertical reflection). More details provided in the following\n",
        "# code cell."
      ],
      "execution_count": null,
      "outputs": [
        {
          "output_type": "stream",
          "text": [
            "----------------------------------------\n",
            "Python version: 3.6.9 (default, Oct  8 2020, 12:12:24) \n",
            "[GCC 8.4.0]\n",
            "OpenCV version: 4.1.2\n",
            "\n",
            "Thank you for reading the instructions.\n",
            "----------------------------------------\n"
          ],
          "name": "stdout"
        }
      ]
    },
    {
      "cell_type": "code",
      "metadata": {
        "id": "k5AQPtYY78km",
        "colab": {
          "base_uri": "https://localhost:8080/"
        },
        "outputId": "d4d6a0ef-6121-4fa3-8a69-7fe70bedf340"
      },
      "source": [
        "# TO-DO (9 points total): test your convolution function with the three scenarios created below. \n",
        "# We will use OpenCV's filter2D function as a reference for the desired, correct results. \n",
        "\n",
        "# Note: both your \"my_padded_conv2D\" function and OpenCV's \"cv2.filter2D\" are actually implementing cross correlation, as\n",
        "# stated in OpenCV's documentation of the function: \"The function does actually compute correlation,\n",
        "# not the convolution\" (https://docs.opencv.org/master/d4/d86/group__imgproc__filter.html#ga27c049795ce870216ddfb366086b5a04)\n",
        "# To implement convolution, you would simply rotate the kernel to be used with your function 180 degrees. This is not \n",
        "# necessary in this assignment.   \n",
        "\n",
        "# Scenario 1 (3 points) - simple 3x3 identity matrix kernel and square input matrix\n",
        "kernel1 = np.eye(3).astype(np.float32)\n",
        "input1 = np.arange(1,26).reshape((5,5)).astype(np.float32)\n",
        "result1 = my_padded_conv2D(kernel1,input1)\n",
        "result1_reference = cv2.filter2D(input1, -1, kernel1, borderType=cv2.BORDER_CONSTANT)\n",
        "assert (result1_reference == result1).all(), 'Incorrect result in scenario 1.'\n",
        "\n",
        "# Scenario 2 (3 points) - simple 5x5 identity matrix kernel and WxH input matrix\n",
        "kernel2 = np.eye(5).astype(np.float32)\n",
        "input2 = np.arange(1,8193).reshape((128,64)).astype(np.float32)\n",
        "result2 = my_padded_conv2D(kernel2,input2)\n",
        "result2_reference = cv2.filter2D(input2, -1, kernel2, borderType=cv2.BORDER_CONSTANT)\n",
        "assert (result2_reference == result2).all(), 'Incorrect result in scenario 2.'\n",
        "\n",
        "# Scenario 3 (3 points) - 7x7 random-valued kernel with WxH random-valued matrix\n",
        "kernel3 = np.random.randint(1, 1000, 49).reshape(7, 7).astype(np.float32)\n",
        "input3 = np.random.randint(1, 1000, 200).reshape(10, 20).astype(np.float32)\n",
        "result3 = my_padded_conv2D(kernel3,input3)\n",
        "result3_reference = cv2.filter2D(input3, -1, kernel3, borderType=cv2.BORDER_CONSTANT)\n",
        "assert (result3_reference == result3).all(), 'Incorrect result in scenario 3.'\n",
        "\n",
        "print('All results are correct!')"
      ],
      "execution_count": null,
      "outputs": [
        {
          "output_type": "stream",
          "text": [
            "All results are correct!\n"
          ],
          "name": "stdout"
        }
      ]
    },
    {
      "cell_type": "markdown",
      "metadata": {
        "id": "j5x-7kZA-Hms"
      },
      "source": [
        "### **2.1 HOG: Pre-processing, magniture and orientation calculation** (20 points)\n",
        "\n",
        "**Introduction**: Histogram of oriented gradients (HOG) are popular feature descriptors made hugely popular when used for pedestrian detection in 2005 [1]. These feature descriptors are obtained as the output of an intricate computational pipeline which will be discussed during class (week of Feb. 8), and should be implemented in this part of the assignment. We are going to manually implement all steps until the \"Linear SVM\" phase of the method (see Figure below from [1]).   \n",
        "\n",
        "[1] Dalal N, Triggs B. Histograms of oriented gradients for human detection. In 2005 IEEE computer society conference on computer vision and pattern recognition (CVPR'05). 2005 Jun 20 (Vol. 1, pp. 886-893). IEEE.\n",
        "\n",
        "![HOG Pipeline](https://raw.githubusercontent.com/tunai/storage/master/images/teaching/ece%20473-536/A2/hog_pipeline.jpg)\n",
        "\n",
        "**Note**: a number of image processing libraries provide efficient and easy-to-use implementations of the Histogram of Oriented Gradients. Although these are recommended for general use, the goal of this assignment is to provide a deeper understanding of the algorithmn as well as an opportunity for hands-on experience in implementing complete Computer Vision pipelines. We are going to compare our results with those from an available implementation later.\n",
        "\n",
        "**Pre-processing, magniture and orientation calculation**: the choice of color space and use of gamma equalization does not significantly change the performance of the method [1]. Therefore, we are going to skip the gamma correction step. The use of grayscale images only \"reduces performance by 1.5%\" [1], thus we are going to use that approach for simplicity.  "
      ]
    },
    {
      "cell_type": "code",
      "metadata": {
        "id": "Yqh1XI-f-GH3",
        "colab": {
          "base_uri": "https://localhost:8080/",
          "height": 253
        },
        "outputId": "85ee1886-bdfa-41c0-fb75-70c0e216ada0"
      },
      "source": [
        "# TO-DO (3 points): Read the image from the address indicated and turn it to grayscale. \n",
        "# Resize the image to (64,128) and normalize its pixel intensity values to the [0,1] range. \n",
        "# Plot the image after this pre-processing. \n",
        "\n",
        "# note 1: check if the image was already downloaded first.\n",
        "# note 2: for consistency between results, resize the image using the \"cv2.INTER_CUBIC\"\n",
        "# interpolation parameter\n",
        "\n",
        "img_add = \"https://raw.githubusercontent.com/tunai/storage/master/images/teaching/ece%20473-536/A2/uvic_totem.jpg\"\n",
        "\n",
        "#\n",
        "# 0. check if image was previously downloaded\n",
        "# if not, download it\n",
        "\n",
        "filename = os.path.split(img_add)[-1]\n",
        "\n",
        "if not os.path.isfile(filename):\n",
        "  output = os.system('wget -nc ' + img_add)\n",
        "\n",
        "# 1. read the image\n",
        "img = cv2.imread(filename, 0)\n",
        "\n",
        "# 2. resize the image\n",
        "img = cv2.resize(img, (64,128), interpolation=cv2.INTER_CUBIC)\n",
        "\n",
        "# 3. normalize the image in the [0,1] range\n",
        "#img = (img/255).astype('float32')\n",
        "img = cv2.normalize(img, None, 0, 1, cv2.NORM_MINMAX,  cv2.CV_32F)\n",
        "\n",
        "cell_size = 8  # 8x8 pixels cells where the histograms of oriented gradients are going to be calculated\n",
        "n_bin = 9  # number of bins of a given histogram. According to [1], n_bin > 9 did not significantly increase performance. \n",
        "\n",
        "# plot the image\n",
        "_ = pltImg(img)"
      ],
      "execution_count": null,
      "outputs": [
        {
          "output_type": "display_data",
          "data": {
            "image/png": "[encoded data removed]",
            "text/plain": [
              "<Figure size 432x288 with 2 Axes>"
            ]
          },
          "metadata": {
            "tags": [],
            "needs_background": "light"
          }
        }
      ]
    },
    {
      "cell_type": "code",
      "metadata": {
        "id": "-WRBfCjnfQ8b"
      },
      "source": [
        "# The authors of [1] used diverse kernels for gradient detection: \"We tested \n",
        "# gradients computed using Gaussian smoothing followed by one of several discrete derivative masks.\" \n",
        "# However they found that a simple 1-D centered point derivative kernel (i.e., [-1,0,1]) works best. This \n",
        "# is what we are going to use.\n",
        "# Note: using uncentered 1-D point derivative kernels (i.e., [-1,1]: forward and backward difference-based \n",
        "# approximations of first-order derivatives) decreased performance in 1.5% [1].\n",
        "\n",
        "# TO-DO (3 points): define a 1-D centered point derivative kernel (i.e., first order derivative approximation using\n",
        "# central differences; see Lecture 6) for the calculation of the x-axis gradient (\"Gradient in x, G_x\") and y-axis gradient\n",
        "# (\"Gradient in y, G_y\").\n",
        "# Apply these kernels to the input image using your \"my_padded_conv2D\" function. \n",
        "# Note: since your function expects square inputs, pad the kernels created with zeros if necessary. \n",
        "\n",
        "kernel_x = np.matrix([[0, 0, 0], [-1, 0, 1], [0, 0, 0]])\n",
        "kernel_y = np.matrix([[0, -1, 0], [0, 0, 0], [0, 1, 0]])\n",
        "\n",
        "gradient_x = my_padded_conv2D(kernel_x, img)\n",
        "gradient_y = my_padded_conv2D(kernel_y, img)\n",
        "\n",
        "# TO-DO (13 points): MANUALLY calculate the magnitude and orientation (in degress) matrices from the\n",
        "# gradient images (i.e., you CAN NOT use cv2.cartToPolar or other functions). \n",
        "# The authors of [1] used the \"unsigned\" gradient (from 0 to 180 degrees, instead of\n",
        "# 0 to 360 degrees). Do the same by adjusting your mannualy calculated orientation \n",
        "# angles (in degrees) to [0,180]. A reference for the first 9 elements of the orientation matrix is provided\n",
        "# below.  "
      ],
      "execution_count": null,
      "outputs": []
    },
    {
      "cell_type": "markdown",
      "metadata": {
        "id": "fLMByVuKjUqx"
      },
      "source": [
        "**Recall**: The magnitude of gradient image $\\triangledown I$ is defined as:\n",
        "\n",
        "$|\\triangledown I| = \\sqrt{(\\frac{\\delta I}{\\delta x})^2+(\\frac{\\delta I}{\\delta y})^2}$\n",
        "\n",
        "Consider $\\triangledown I_x = \\frac{\\delta I}{\\delta x}$ and $\\triangledown I_y = \\frac{\\delta I}{\\delta y}$ (gradients in x and in y). \n",
        "\n",
        "Orientation $\\theta$ is defined as: \n",
        "\n",
        "$\\theta = atan(\\frac{\\triangledown I_y}{\\triangledown I_x})$\n",
        "\n",
        "As a reference, this is how the first few elements of your orientation matrix\n",
        "should look like:\n",
        "\n",
        "orientation[0:3,0:3] = [[45.862453   89.516495   89.28976   ], [ 1.9333004  66.80141    70.34617   ], [ 0.23578373 26.56505     9.462321  ]]"
      ]
    },
    {
      "cell_type": "code",
      "metadata": {
        "id": "iQWuIgsCg-ut",
        "colab": {
          "base_uri": "https://localhost:8080/",
          "height": 307
        },
        "outputId": "96bf58a0-ba7f-410d-ee38-958f99978c9e"
      },
      "source": [
        "mag = np.sqrt(np.square(gradient_x) + np.square(gradient_y))\n",
        "orientation = np.degrees(np.arctan2(gradient_y, gradient_x))\n",
        "\n",
        "# Adjusting negative signed degrees to unsigned according to HOG lecture\n",
        "orientation[orientation < 0] += 180 \n",
        "\n",
        "print(orientation[0:3,0:3]) # check with the orientation reference provided. they should be \n",
        "# extremely similar\n",
        "\n",
        "# TO-DO (1 point): plot the magniture matrix\n",
        "#\n",
        "_ = pltImg(mag)"
      ],
      "execution_count": null,
      "outputs": [
        {
          "output_type": "stream",
          "text": [
            "[[45.862446   89.516495   89.28976   ]\n",
            " [ 1.9333003  66.80141    70.34617   ]\n",
            " [ 0.23578373 26.56505     9.462321  ]]\n"
          ],
          "name": "stdout"
        },
        {
          "output_type": "display_data",
          "data": {
            "image/png": "[encoded data removed]",
            "text/plain": [
              "<Figure size 432x288 with 2 Axes>"
            ]
          },
          "metadata": {
            "tags": [],
            "needs_background": "light"
          }
        }
      ]
    },
    {
      "cell_type": "markdown",
      "metadata": {
        "id": "bff-IR9E7uGM"
      },
      "source": [
        "### **2.2 HOG: Creation of cells and Histograms of Oriented Gradients** (26 points)\n",
        "\n",
        "We now have the orientation and magnitude images (matrices) of our grayscale input. The next step is to divide the grayscale input into 8x8 non-overlapping cells and create, for each cell, a histogram of oriented gradients. The HOG formation is illustrated in the image below (considering a small 3x3 cell): \n",
        "\n",
        "![](https://raw.githubusercontent.com/tunai/storage/master/images/teaching/ece%20473-536/A2/hog_formation.jpg)"
      ]
    },
    {
      "cell_type": "code",
      "metadata": {
        "id": "Ek07GR2c7NrX"
      },
      "source": [
        "# TO-DO (total 25 points): create the functions \"my_hog\" and \"create_hist_cell\" as specified\n",
        "# in the templates below. \n",
        "\n",
        "# Tip: this implementation is going to be discussed during class on the week of February 8. \n",
        "\n",
        "# (10 points) my_hog function: this function is responsible for dividing the input image into non-overlapping\n",
        "# cells of cell_size x cell_size.\n",
        "def my_hog(img, cell_size, n_bin, mag, orientation):\n",
        "\n",
        "  hog = []  # this is the list that will hold the HOG\n",
        "  dims = img.shape # dimensions of the image\n",
        "      \n",
        "  # loop to divide the image into cells of cell_size x cell_size. Each cell is then \n",
        "  # used as input to the \"create_hist_cell\" function (see below). The output (HOG)  \n",
        "  # is stored as a numpy ndarray in the \"hog\" list.\n",
        "  #\n",
        "  #\n",
        "  for i in range(0, dims[0] - cell_size + 1, cell_size):\n",
        "\n",
        "    for j in range(0, dims[1] - cell_size + 1, cell_size):\n",
        "\n",
        "      # get 8x8 cells of magnitude\n",
        "      mag_cells = mag[i:i+cell_size, j:j+cell_size]\n",
        "\n",
        "      # get 8x8 cells of orientation\n",
        "      orientation_cells = orientation[i:i+cell_size, j:j+cell_size]\n",
        "\n",
        "      # feed them into create_hist_cell, and append it to my list of HOG\n",
        "      hog.append(create_hist_cell(mag_cells, orientation_cells, n_bin))\n",
        "\n",
        "  return hog\n",
        "\n",
        "\n",
        "# (15 points): this function will create a histogram of n_bins (9 by default) positions\n",
        "# where the histogram of oriented gradients of a 8x8 cell is going to be stored.\n",
        "# You can USE A MAXIMUM of \"bin_size\" iterations on this function's internal loop. \n",
        "\n",
        "def create_hist_cell(mag, orientation, bin_size):\n",
        "\n",
        "    # each cell is going to have its own histogram of size 1x\"bin_size\"\n",
        "\n",
        "    hist = np.zeros(9) # creates the empty histogram\n",
        "    factor = 20 # the increment between boundaries of each bin of the cell histogram\n",
        "    limits = (0, 180) # the boundaries between bins of the histogram\n",
        "\n",
        "    # loop to, given an orientation and magnitude cell (small patch of cell_size x cell_size)\n",
        "    # create a HOG.\n",
        "    # You can use a MAXIMUM of \"bin_size\" iterations in this loop \n",
        "    #\n",
        "    #\n",
        "    # As above up to \"bin_size\" iterations in this loop\n",
        "    for i in range(bin_size):\n",
        "\n",
        "      # sub select orientation angles between the bin sizes for each iteration 0 = [0,20), 1 = [20,40), ... , 8 = [160, 180)\n",
        "      # note: we select inclusive bin angle (below as <=) in order to add values to previous hist bin if they fall on this boundry\n",
        "      selected = (np.where((i*factor <= orientation) & (orientation < (i+1)*factor), mag, 0))\n",
        "      \n",
        "      # add sum of selected values to the current hist bin iteration\n",
        "      hist[i] += np.sum(selected)\n",
        "\n",
        "      # case to check if there are boundary values in our selection above\n",
        "      # select the sub selected orientation values that are not on edge limits, and fall on current boundary\n",
        "      boundary = np.where((selected != limits[0]) & (selected != limits[1]) & (selected % factor == 0), mag, 0)\n",
        "      x= (selected != limits[0]) & (selected != limits[1]) & (selected % factor == 0)\n",
        "\n",
        "      # add sum of them to the previous bin if any are boundaries found\n",
        "      hist[i-1] += np.sum(boundary)\n",
        "      # (note if there aren't boundary values, above line will just add 0s to previous bin which won't change the hist)\n",
        "\n",
        "    # note: there exists different ways to fill the histograms of oriented gradients. Some \n",
        "    # implementations use a weighted voting scheme for each pixel (i.e., a pixel would contribute \n",
        "    # to more than a single bin to avoid bias), while others simply add the values of the last \n",
        "    # bin in the first one (e.g., orientations between 160-180 also contributing to the 0-20 bin).\n",
        "    # For simplicity, we do not do that here. Therefore, this implementation can be considered as\n",
        "    # an approximation of the algorithm in [1].\n",
        "        \n",
        "    assert len(hist) == bin_size, 'The number of bins in this output histogram is incorrect.'\n",
        "    return hist\n",
        "\n",
        "# TO-DO (1 point): use your my_hog function to extract the histograms of oriented gradients \n",
        "# from the input image.\n",
        "\n",
        "my_hog = my_hog(img, cell_size, n_bin, mag, orientation)\n",
        "\n",
        "# print(my_hog[0])\n",
        "# Output: [4.74221754 0.17178032 2.08652806 0.70641959 7.67434216 0.68400109\n",
        "# 1.39279175 0.78699005 1.0819521 ]\n",
        "# Matches similarly reference below!\n",
        "\n",
        "# As a reference, the first HOG (i.e., HOG of the first 8x8 cell) should be similar to:\n",
        "# my_hog[0] = [4.742218   0.17178032 2.086528   0.7064196  7.674342   0.684001\n",
        "# 1.3927917  0.78699005 1.0897954 ]"
      ],
      "execution_count": null,
      "outputs": []
    },
    {
      "cell_type": "markdown",
      "metadata": {
        "id": "e2mVmhqdsdr-"
      },
      "source": [
        "### **2.3 HOG: 2 x 2 cell block normalization** (16 points)\n",
        "\n",
        "The last step in calculating the HOG feature descriptor is to normalize blocks containing multiple cells to compensate for lighting and contrast changes, as described by the authors: \"Gradient strengths vary over a wide range owing to local variations in illumination and foreground-background contrast, so effective local contrast normalization turns out to be essential for good performance.\" [1]\n",
        "\n",
        "You are going to use blocks composed by 2 x 2 cells (i.e., 16x16 pixels for cell_size=8) and an L-2 norm normalization scheme. \n",
        "\n",
        "![](https://www.learnopencv.com/wp-content/uploads/2016/12/hog-16x16-block-normalization.gif) [2]\n",
        "\n",
        "[2] Mallick, Satya. \"Histogram of Oriented Gradients.\" 2016. Available at: https://www.learnopencv.com/histogram-of-oriented-gradients/\n",
        "\n",
        "Recall: for a given vector $x$ (or array of data in Python), the L2-norm is\n",
        "given by: \n",
        "\n",
        "$\\|x\\|_{2}=(\\sum_{i=1}^{N}|x_i|^2)^{1/2}=\\sqrt{x_1^2+x_2^2+...+x_N^2}$"
      ]
    },
    {
      "cell_type": "code",
      "metadata": {
        "id": "N0KcqxI9uybR"
      },
      "source": [
        "# TO-DO (15 points): implement the normalize16_16 function following the template provided. This function is going to \n",
        "# divide the HOG structure previously calculated into overlapping blocks of 2 x 2 cells (i.e., 16x16 pixels\n",
        "# in the original image for for cell_size=8) and execute a L-2 normalization scheme in each of them.\n",
        "\n",
        "def normalize16_16(img, hog, cell_size):\n",
        "\n",
        "    # preamble: consider a 128x64 image and 8x8 cells. this function's input is a sequential list representing the histograms\n",
        "    # of oriented gradients from each 8x8 block of the image. They would be positioned as follows (each index\n",
        "    # representing an 8x8 pixels block in the original image):\n",
        "    # 0 1 2  3  4  5  6  7\n",
        "    # 8 9 10 11 12 13 14 15\n",
        "    #        ...\n",
        "    # 112 113 ...    118 119\n",
        "    # 120 121 ...    126 127\n",
        "\n",
        "    # algorithm: for position 0, a 16x16 block can be considered by retrieving the HOGs in positions 0,1,8,9. Similarly,\n",
        "    # for position 1, the 16x16 cell would be equivalent to indexes 1,2,9,10. The last positions in this example are is 118, \n",
        "    # which will consider the hogs in indexes 118, 119, 126 and 127. The following for loop creates these indexes.\n",
        "    # Note: at the end of a row (in the above representation), you need to jump straight to the next\n",
        "    # row (there is no intermediate 16x16 block formed by the content of two distinct rows).\n",
        "\n",
        "    final_hog = []\n",
        "    block = 2\n",
        "\n",
        "    height = (int) (img.shape[0] / (block * cell_size) * 2)\n",
        "    width = (int) (img.shape[1] / (block * cell_size) * 2)\n",
        "\n",
        "    pos = np.arange(height*width).reshape((height, width))\n",
        "\n",
        "    # loop to implement the histogram normalization routine\n",
        "    #\n",
        "    for i in range(0, height-1):\n",
        "      for j in range(0, width-1):\n",
        "\n",
        "        # For each block (i.e., total of 4 9-bin HOGs), use the  L2-norm as normalizing strategy.\n",
        "        flatten = np.concatenate([hog[pos[i][j]], hog[pos[i][j+1]], hog[pos[i+1][j]], hog[pos[i+1][j+1]] ])        \n",
        "        l2_norm = np.sqrt(np.sum(flatten**2))\n",
        "\n",
        "        # Append HOG feature to final_hog row vector\n",
        "        final_hog = np.append(final_hog, flatten / l2_norm)\n",
        "    \n",
        "    # return final_hog as a row vector (i.e., flattened matrix)\n",
        "    return final_hog\n",
        "\n",
        "# TO-DO (1 point): use the normalize16_16 function to normalize your HOG features.\n",
        "normalized_hog = normalize16_16(img, my_hog, cell_size)"
      ],
      "execution_count": null,
      "outputs": []
    },
    {
      "cell_type": "markdown",
      "metadata": {
        "id": "GCx0UwurdCBX"
      },
      "source": [
        "### **2.4 HOG: Visualizing HOG features** (14 points)\n",
        "Your HOG features should be represented as a row vector (i.e., flattened matrix). Considering a 128 x 64 image, cells of 8 x 8 pixels, HOGs of 9 bins and blocks of 2 x 2 cells, such row vector must have dimensions 1 x 3780. One could create a function to overlay each block on top of its corresponding position in the image and represent the \"n_bin\" different directions with arrows of changing lengths (magnitudes). However, in a simplified approach, we are going to use the \"scikit-image\" image processing library to calculate HOG features, compare them with our mannually calculated ones and display them. "
      ]
    },
    {
      "cell_type": "code",
      "metadata": {
        "id": "GvKz_dVZdgha",
        "colab": {
          "base_uri": "https://localhost:8080/",
          "height": 336
        },
        "outputId": "1d0adb82-0906-47d5-f92f-bc9211e0e048"
      },
      "source": [
        "# TO-DO (2 points): create and plot a histogram with your row vector of HOG features. The histogram's plot\n",
        "# should have 50 bins and span from 0 to 1 in the x-axis. \n",
        "# Note: you are calculating the regular histogram, not the cumulative one. \n",
        "\n",
        "plt.figure(figsize = (12,5))\n",
        "plt.subplot(1, 2, 1)\n",
        "plt.title('normalized_hog HOG features')\n",
        "plt.hist(normalized_hog, bins=50, range=(0,1))\n",
        "\n",
        "# TO-DO (2 points): use skimage's \"hog\" function to calculate the HOG of your input image using the \n",
        "# same hyper parameters (i.e., n_bin=9, cell_size=8, blocks of 2x2, L2-norm) of the rest of the \n",
        "# assignment. The output should be flattened to a row vector. The dimensions of such \n",
        "# vector must match those that you manually calculated. Specify that you desire to visualize \n",
        "# the results in an output image. \n",
        "\n",
        "fd, hog_image = hog(img, orientations=9, pixels_per_cell=(8, 8), cells_per_block=(2, 2), block_norm='L2', visualize=True)\n",
        "\n",
        "assert fd.size==normalized_hog.size, 'The dimensions of the HOG feature vectors do no match.'\n",
        "\n",
        "# TO-DO (2 points): create and plot a 50-bin histogram with skimage's HOG features. \n",
        "# Bound the plot's x-axis values into the [0,1] range. \n",
        "# Display this plot for an approximate comparison with your recently calculated one. \n",
        "#\n",
        "#\n",
        "plt.subplot(1, 2, 2)\n",
        "plt.title('skimage\\'s HOG features')\n",
        "plt.hist(fd, bins=50, range=(0,1))\n",
        "plt.show()"
      ],
      "execution_count": null,
      "outputs": [
        {
          "output_type": "display_data",
          "data": {
            "image/png": "[encoded data removed]",
            "text/plain": [
              "<Figure size 864x360 with 2 Axes>"
            ]
          },
          "metadata": {
            "tags": [],
            "needs_background": "light"
          }
        }
      ]
    },
    {
      "cell_type": "markdown",
      "metadata": {
        "id": "l7i92ZU-QaxN"
      },
      "source": [
        "**Similarity calculation**. In order to guarantee that visualizing scikit-images' HOG features represents well your mannualy calculated HOG features, you are now asked to compare the level of similarity between these two row of features. We will use cosine similarity to accomplish that. \n",
        "\n",
        "Recall: the cosine similarity is given by the cosine of angle $\\alpha$ formed between two multi-dimensional vectors A and B:\n",
        "\n",
        "$cosineSimilarity(A,B) = cos(\\alpha)=\\frac{A\\bullet B}{\\|A\\|\\times\\|B\\|}= \\frac{(\\sum_{i=1}^{n}A_i \\times B_i)}{\\sqrt{\\sum_{i=1}^{n}A_i^2}\\times\\sqrt{\\sum_{i=1}^{n}B_i^2}}$ "
      ]
    },
    {
      "cell_type": "code",
      "metadata": {
        "id": "Ofg0ZZqWS5rM",
        "colab": {
          "base_uri": "https://localhost:8080/",
          "height": 271
        },
        "outputId": "2963feae-e1e6-404c-ef95-e3653da05d39"
      },
      "source": [
        "# TO-DO (6 points): MANNUALY calculate the cosine similarity between these two feature vectors\n",
        "# (i.e., HOG features calculated mannualy and using skimage). The cosine similarity is simply\n",
        "# the cosine of the angle formed between the two vectors. Since the cosine of 0 (i.e., when\n",
        "# the vectors have the same orientation) is 1 (maximum), this measure reflects if\n",
        "# two multi-dimensional vectors point in the same direction. \n",
        "# YOU CAN ONLY USE \"np.sqrt\" and \"np.dot\" in this calculation. \n",
        "\n",
        "# Note 1: this metric does not consider the magniture of the two input vectors, only the \n",
        "# angle between them. \n",
        "\n",
        "# Note 2: in the cosine similarity formula, the numerator represents dot product,\n",
        "# while the denominator represents the product of L2-norms. \n",
        "\n",
        "# let A be my manual hog feature, and B be the one using skimage\n",
        "a, b = normalized_hog, fd\n",
        "\n",
        "# cosine similarity calculation using only \"np.sqrt\" and \"np.dot\"\n",
        "c_sim = np.dot(a,b) / ( np.sqrt(np.dot(a,a)) * np.sqrt(np.dot(b,b)) )\n",
        "\n",
        "# TO-DO(1 point): print the cosine similarity calculated. If the HOG was correctly measured \n",
        "# both mannualy and automatically, the cosine similarity between \"normalized_hog\" and \n",
        "# \"fd\" should be higher than 0.95. To compensate for small differences, your \n",
        "# cosine similarity should be higher than AT LEAST 0.93.\n",
        "\n",
        "print(\"cosine similarity:\", c_sim)\n",
        "\n",
        "assert c_sim>0.93, 'Cosine similarity lower than 0.93. Check your manual HOG calculations.'\n",
        "\n",
        "# TO-DO (1 points): display the HOG image obtained as an output of skimage's \"hog\"\n",
        "# function. Since the cosine similarity between the two HOG feature vectors is high,\n",
        "# this is good approximation of HOG features you calculated mannualy.\n",
        "#\n",
        "#\n",
        "_ = pltImg(hog_image)"
      ],
      "execution_count": null,
      "outputs": [
        {
          "output_type": "stream",
          "text": [
            "cosine similarity: 0.9507673690153495\n"
          ],
          "name": "stdout"
        },
        {
          "output_type": "display_data",
          "data": {
            "image/png": "[encoded data removed]",
            "text/plain": [
              "<Figure size 432x288 with 2 Axes>"
            ]
          },
          "metadata": {
            "tags": [],
            "needs_background": "light"
          }
        }
      ]
    },
    {
      "cell_type": "markdown",
      "metadata": {
        "id": "KTNaGOx3beyg"
      },
      "source": [
        "**End of the assignment!**"
      ]
    }
  ]
}